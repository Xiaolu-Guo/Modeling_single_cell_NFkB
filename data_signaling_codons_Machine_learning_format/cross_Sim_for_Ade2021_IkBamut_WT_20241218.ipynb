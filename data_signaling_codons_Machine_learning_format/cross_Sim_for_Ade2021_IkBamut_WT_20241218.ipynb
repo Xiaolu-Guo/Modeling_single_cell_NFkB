{
 "cells": [
  {
   "cell_type": "code",
   "execution_count": 1,
   "metadata": {},
   "outputs": [
    {
     "name": "stdout",
     "output_type": "stream",
     "text": [
      "2.1.2\n"
     ]
    }
   ],
   "source": [
    "\n",
    "# check xgboost version\n",
    "import xgboost\n",
    "print(xgboost.__version__)\n"
   ]
  },
  {
   "cell_type": "code",
   "execution_count": 2,
   "metadata": {},
   "outputs": [],
   "source": [
    "# !pip install xgboost\n",
    "# !pip install matplotlib\n",
    "# !pip install seaborn\n",
    "# !pip install scikit-learn\n"
   ]
  },
  {
   "cell_type": "code",
   "execution_count": 3,
   "metadata": {},
   "outputs": [],
   "source": [
    "import numpy as np\n",
    "import copy as cp\n",
    "import matplotlib.pyplot as plt\n",
    "\n",
    "import seaborn as sns\n",
    "from typing import Tuple\n",
    "from sklearn.metrics import confusion_matrix\n",
    "\n",
    "def cross_val_predict(model, kfold, X, y ) -> Tuple[np.array, np.array, np.array]:\n",
    "\n",
    "    model_ = cp.deepcopy(model)\n",
    "    \n",
    "    no_classes = len(np.unique(y))\n",
    "    \n",
    "    actual_classes = np.empty([0], dtype=int)\n",
    "    actual_X_val = np.empty([0], dtype=int)\n",
    "    predicted_classes = np.empty([0], dtype=int)\n",
    "    predicted_proba = np.empty([0, no_classes]) \n",
    "\n",
    "    for train_ndx, test_ndx in kfold.split(X):\n",
    "\n",
    "        train_X, train_y, test_X, test_y = X[train_ndx], y[train_ndx], X[test_ndx], y[test_ndx]\n",
    "\n",
    "        actual_classes = np.append(actual_classes, test_y)\n",
    "        actual_X_val = np.append(actual_X_val,test_X)\n",
    "\n",
    "        model_.fit(train_X, train_y)\n",
    "        predicted_classes = np.append(predicted_classes, model_.predict(test_X))\n",
    "\n",
    "        try:\n",
    "            predicted_proba = np.append(predicted_proba, model_.predict_proba(test_X), axis=0)\n",
    "        except:\n",
    "            predicted_proba = np.append(predicted_proba, np.zeros((len(test_X), no_classes), dtype=float), axis=0)\n",
    "\n",
    "    return actual_classes, predicted_classes, predicted_proba, actual_X_val"
   ]
  },
  {
   "cell_type": "markdown",
   "metadata": {},
   "source": [
    "Confusion_matrix whose i-th row and j-th column entry indicates the number of samples with true label being i-th class and predicted label being j-th class.   \n"
   ]
  },
  {
   "cell_type": "code",
   "execution_count": 4,
   "metadata": {},
   "outputs": [],
   "source": [
    "def plot_confusion_matrix(actual_classes, predicted_classes, sorted_labels):\n",
    "\n",
    "    matrix = confusion_matrix(actual_classes, predicted_classes, labels=sorted_labels)\n",
    " \n",
    "    plt.figure(figsize=(12.8,6))\n",
    "    sns.heatmap(matrix, annot=True, xticklabels=sorted_labels, yticklabels=sorted_labels, cmap=\"Blues\", fmt=\"g\")\n",
    "    plt.xlabel('Predicted'); plt.ylabel('Actual'); plt.title('Confusion Matrix')\n",
    "\n",
    "    plt.show()"
   ]
  },
  {
   "cell_type": "code",
   "execution_count": 13,
   "metadata": {},
   "outputs": [
    {
     "name": "stdout",
     "output_type": "stream",
     "text": [
      "(3000, 6)\n",
      "(3000, 1)\n",
      "1382    1\n",
      "23      0\n",
      "2140    2\n",
      "1117    1\n",
      "933     0\n",
      "       ..\n",
      "2763    2\n",
      "905     0\n",
      "1096    1\n",
      "235     0\n",
      "1061    1\n",
      "Name: 0, Length: 2010, dtype: int64\n",
      "WT\n",
      "[[333   5   0]\n",
      " [  8 311  10]\n",
      " [  4   7 312]]\n"
     ]
    }
   ],
   "source": [
    "# try cross validation\n",
    "import pandas as pd\n",
    "import matplotlib.pyplot as plt\n",
    "import numpy as np\n",
    "np.random.seed(1) \n",
    "import csv\n",
    "import sklearn\n",
    "from sklearn.ensemble import RandomForestClassifier\n",
    "\n",
    "from sklearn.model_selection import KFold\n",
    "# linear regression feature importance\n",
    "# from sklearn.datasets import make_regression\n",
    "from matplotlib import pyplot\n",
    "from pandas import read_csv\n",
    "from sklearn.model_selection import train_test_split\n",
    "from sklearn.model_selection import RandomizedSearchCV\n",
    "\n",
    "# xgboost for feature importance on a classification problem\n",
    "from sklearn.datasets import make_classification\n",
    "from sklearn.metrics import confusion_matrix\n",
    "from xgboost import XGBClassifier\n",
    "from matplotlib import pyplot\n",
    "# define dataset\n",
    "\n",
    "data_name = 'WT'\n",
    "file_names = 'SimIkBamutClass'\n",
    "XFileName = file_names + '_X_codon_stim_' + data_name + '.csv'\n",
    "yFileName = file_names + '_y_codon_stim_' + data_name + '.csv'\n",
    "SaveFileName = file_names + '_RandomForest_conf_mat_' + data_name + '.csv'\n",
    "\n",
    "\n",
    "X = read_csv(XFileName,header = None)\n",
    "#print(X.shape)            \n",
    "y = read_csv(yFileName,header = None)\n",
    "#print(y.shape)\n",
    "\n",
    "# Convert to NumPy arrays\n",
    "X_np = X.to_numpy()\n",
    "y_np = y.to_numpy()\n",
    "\n",
    "print(X_np.shape)\n",
    "print(y_np.shape)\n",
    "\n",
    "# split traing and testing dataset\n",
    "X_train, X_test, y_train, y_test = train_test_split(X, y, test_size=0.33, random_state=1)\n",
    "\n",
    "#print(y_train)\n",
    "#print(y)\n",
    "# define the model\n",
    "model = RandomForestClassifier()\n",
    "\n",
    "# fit the model\n",
    "y_train = y_train.iloc[:, 0]\n",
    "print(y_train)\n",
    "model.fit(X_train, y_train)\n",
    "\n",
    "# evaluate the model\n",
    "y_pred = model.predict(X_test)\n",
    "confu_mat = confusion_matrix(y_test,y_pred)\n",
    "np.savetxt(SaveFileName,confu_mat,  delimiter=\",\")  #fmt = '%d',\n",
    "\n",
    "print(data_name)\n",
    "print(confu_mat)\n",
    "#accuracy = model.score(actual_X_val, predicted_classes)\n",
    "#print(accuracy)"
   ]
  },
  {
   "cell_type": "code",
   "execution_count": 14,
   "metadata": {},
   "outputs": [
    {
     "name": "stdout",
     "output_type": "stream",
     "text": [
      "(3000, 6)\n",
      "(3000, 1)\n",
      "IkBamut\n",
      "[[702 271  27]\n",
      " [  5 966  29]\n",
      " [  3  20 977]]\n"
     ]
    }
   ],
   "source": [
    "\n",
    "XFileName_IkBamut = file_names + '_X_codon_stim_' + 'IkBamut' + '.csv'\n",
    "yFileName_IkBamut = file_names + '_y_codon_stim_' + 'IkBamut' + '.csv'\n",
    "SaveFileName_IkBamut = file_names + '_RandomForest_conf_mat_' + 'WT_Train_IkBamut' + '.csv'\n",
    "\n",
    "\n",
    "X_IkBamut = read_csv(XFileName_IkBamut,header = None)\n",
    "print(X_IkBamut.shape)            \n",
    "y_IkBamut = read_csv(yFileName_IkBamut,header = None)\n",
    "print(y_IkBamut.shape)\n",
    "\n",
    "    # Convert to NumPy arrays\n",
    "X_np_IkBamut = X_IkBamut.to_numpy()\n",
    "y_np_IkBamut = y_IkBamut.to_numpy()\n",
    "\n",
    "    # Ensure y is one-dimensional\n",
    "if y_np_IkBamut.ndim > 1 and y_np_IkBamut.shape[1] == 1:\n",
    "    y_np_IkBamut = y_np_IkBamut.flatten()\n",
    "\n",
    "y_pred_IkBamut = model.predict(X_np_IkBamut)\n",
    "\n",
    "confu_mat = confusion_matrix(y_np_IkBamut,y_pred_IkBamut)\n",
    "np.savetxt(SaveFileName_IkBamut,confu_mat,  delimiter=\",\")  #fmt = '%d',\n",
    "\n",
    "print('IkBamut')\n",
    "print(confu_mat)\n",
    "#accuracy = model.score(actual_X_val, predicted_classes)\n",
    "#print(accuracy)"
   ]
  },
  {
   "cell_type": "code",
   "execution_count": null,
   "metadata": {},
   "outputs": [],
   "source": []
  }
 ],
 "metadata": {
  "kernelspec": {
   "display_name": "Python 3 (ipykernel)",
   "language": "python",
   "name": "python3"
  },
  "language_info": {
   "codemirror_mode": {
    "name": "ipython",
    "version": 3
   },
   "file_extension": ".py",
   "mimetype": "text/x-python",
   "name": "python",
   "nbconvert_exporter": "python",
   "pygments_lexer": "ipython3",
   "version": "3.12.4"
  }
 },
 "nbformat": 4,
 "nbformat_minor": 4
}
