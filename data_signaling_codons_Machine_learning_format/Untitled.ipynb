{
 "cells": [
  {
   "cell_type": "code",
   "execution_count": null,
   "id": "9f54d4df-8dd5-48fd-949b-a4b2d78b4556",
   "metadata": {},
   "outputs": [],
   "source": []
  }
 ],
 "metadata": {
  "kernelspec": {
   "display_name": "",
   "name": ""
  },
  "language_info": {
   "name": ""
  }
 },
 "nbformat": 4,
 "nbformat_minor": 5
}
